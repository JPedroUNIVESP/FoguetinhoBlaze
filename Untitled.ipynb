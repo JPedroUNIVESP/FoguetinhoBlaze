{
 "cells": [
  {
   "cell_type": "code",
   "execution_count": 2,
   "metadata": {},
   "outputs": [],
   "source": [
    "import matplotlib.pyplot as plt\n",
    "import numpy as np\n",
    "from IPython.display import display, clear_output\n",
    "from matplotlib.offsetbox import OffsetImage, AnnotationBbox\n"
   ]
  },
  {
   "cell_type": "code",
   "execution_count": 3,
   "metadata": {},
   "outputs": [
    {
     "data": {
      "image/png": "[encoded data removed]",
      "text/plain": [
       "<Figure size 432x288 with 1 Axes>"
      ]
     },
     "metadata": {},
     "output_type": "display_data"
    }
   ],
   "source": [
    "fig, ax = plt.subplots()  \n",
    "\n",
    "ax.set_ylim(0, 100)\n",
    "ax.set_xlim(0, 10)\n",
    "\n",
    "\n",
    "arr = np.arange(0, 100.1, 0.1)\n",
    "arr_squared = np.square(arr)\n",
    "\n",
    "\n",
    "def getImage(path):\n",
    "    return OffsetImage(plt.imread(path, format=\"jpg\"), zoom=0.25)\n",
    "\n",
    "paths = 'rocket.png'\n",
    "\n",
    "for i in range(0, 100):\n",
    "    ax.clear()\n",
    "    ab = AnnotationBbox(getImage(paths), (arr[i], arr_squared[i]), frameon=False)\n",
    "    ax.add_artist(ab)\n",
    "    ax.set_ylim(0, 100)\n",
    "    ax.set_xlim(0, 10)\n",
    "    ax.plot(arr[:i], arr_squared[:i], color='red') \n",
    "    display(fig)\n",
    "    clear_output(wait=True)\n",
    "\n",
    "plt.close(fig)\n"
   ]
  }
 ],
 "metadata": {
  "kernelspec": {
   "display_name": "Python 3",
   "language": "python",
   "name": "python3"
  },
  "language_info": {
   "codemirror_mode": {
    "name": "ipython",
    "version": 3
   },
   "file_extension": ".py",
   "mimetype": "text/x-python",
   "name": "python",
   "nbconvert_exporter": "python",
   "pygments_lexer": "ipython3",
   "version": "3.7.6"
  }
 },
 "nbformat": 4,
 "nbformat_minor": 4
}
